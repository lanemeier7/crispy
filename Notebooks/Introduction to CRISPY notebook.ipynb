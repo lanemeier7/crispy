{
 "cells": [
  {
   "cell_type": "code",
   "execution_count": 28,
   "id": "b944ac73",
   "metadata": {},
   "outputs": [],
   "source": [
    "import sys,os\n",
    "import numpy as np\n",
    "from crispy.tools.initLogger import getLogger\n",
    "log = getLogger('crispy')"
   ]
  },
  {
   "cell_type": "markdown",
   "id": "ba8c1820",
   "metadata": {},
   "source": [
    "## 1. Initialization"
   ]
  },
  {
   "cell_type": "code",
   "execution_count": 29,
   "id": "4b2bd747",
   "metadata": {},
   "outputs": [
    {
     "data": {
      "text/plain": [
       "SIMPLE  =                    T / conforms to FITS standard                      \n",
       "BITPIX  =                    8 / array data type                                \n",
       "NAXIS   =                    0 / number of array dimensions                     \n",
       "EXTEND  =                    T                                                  \n",
       "COMMENT                                                                         \n",
       "COMMENT ************************************************************            \n",
       "COMMENT ********************** General parameters ******************            \n",
       "COMMENT ************************************************************            \n",
       "COMMENT                                                                         \n",
       "NLENS   =                  108 / # lenslets across array                        \n",
       "PITCH   =             0.000174 / Lenslet pitch (meters)                         \n",
       "INTERLAC=                  2.0 / Interlacing                                    \n",
       "PHILENS =    26.56505117707799 / Rotation angle of the lenslets (deg)           \n",
       "PIXSIZE =              1.3E-05 / Pixel size (meters)                            \n",
       "LENSAMP =                  0.5 / Lenslet sampling (lam/D)                       \n",
       "LSAMPWAV=                770.0 / Lenslet sampling wavelength (nm)               \n",
       "FWHM    =                  2.0 / FHWM of PSFLet at detector (pixels)            \n",
       "FWHMLAM =                770.0 / Wavelength at which FWHM is defined (nm)       \n",
       "NPIX    =                 1024 / Number of detector pixels                      \n",
       "BW      =                 0.18 / Bandwidth                                      \n",
       "PIXPRLAM=                  2.0 / Pixels per resolution element                  \n",
       "RESLSTSQ=                  2.0 / Nspec per Nyq. sample for lstsq extraction     \n",
       "R       =                   50 / Spectral resolution                            "
      ]
     },
     "execution_count": 29,
     "metadata": {},
     "output_type": "execute_result"
    }
   ],
   "source": [
    "os.chdir(\"C:/Users/ebray/Github Repos/crispy/crispy/WFIRST/\")\n",
    "from params import Params\n",
    "par = Params()\n",
    "par.hdr"
   ]
  },
  {
   "cell_type": "markdown",
   "id": "4e82f643",
   "metadata": {},
   "source": [
    "## 2. Create the flatfield"
   ]
  },
  {
   "cell_type": "code",
   "execution_count": 30,
   "id": "a0d50311",
   "metadata": {},
   "outputs": [
    {
     "name": "stdout",
     "output_type": "stream",
     "text": [
      "Help on function testCreateFlatfield in module crispy.unitTests:\n",
      "\n",
      "testCreateFlatfield(par, pixsize=0.1, npix=512, pixval=1.0, Nspec=45, outname='flatfield.fits', useQE=True, method='optext', maxflux=400, bg=10)\n",
      "    Creates a polychromatic flatfield\n",
      "    \n",
      "    Parameters\n",
      "    ----------\n",
      "    par :   Parameter instance\n",
      "        Contains all IFS parameters\n",
      "    pixsize:   float\n",
      "       Pixel scale (lam/D)\n",
      "    npix: int\n",
      "        Each input frame has a pixel size npix x npix\n",
      "    pixval: float\n",
      "        Each input frame has a unform value pixval in photons per second per nm of bandwidth\n",
      "    Nspec: float\n",
      "        Optional input forcing the number of wavelengths bins used\n",
      "    outname: string\n",
      "        Name of flatfield image\n",
      "    useQE: boolean \n",
      "        Whether to take into account the wavelength-dependent QE of the detector\n",
      "\n"
     ]
    }
   ],
   "source": [
    "from crispy.unitTests import testCreateFlatfield\n",
    "help(testCreateFlatfield)"
   ]
  },
  {
   "cell_type": "markdown",
   "id": "db3bd0d6",
   "metadata": {},
   "source": [
    "#### 2.1 Determine wavelengths at which to make the flatfield"
   ]
  },
  {
   "cell_type": "code",
   "execution_count": 31,
   "id": "493f32b4",
   "metadata": {},
   "outputs": [
    {
     "name": "stdout",
     "output_type": "stream",
     "text": [
      "crispy - INFO - Reading in lam_list from ..//ReferenceFiles/wavecalR50_770/lamsol.dat\n",
      "crispy - INFO - Reduced cube will have 18 wavelength bins\n",
      "[704.25443039 711.41747416 718.65337398 725.96287087 733.34671341\n",
      " 740.80565776 748.34046779 755.95191515 763.64077932 771.40784771\n",
      " 779.25391575 787.17978694 795.18627299 803.27419382 811.44437771\n",
      " 819.69766139 828.03489005 836.45691752]\n"
     ]
    }
   ],
   "source": [
    "from crispy.tools.reduction import calculateWaveList\n",
    "#help(calculateWaveList)\n",
    "lam_midpts,lam_endpts = calculateWaveList(par)\n",
    "print(lam_midpts)"
   ]
  },
  {
   "cell_type": "code",
   "execution_count": 32,
   "id": "93883463",
   "metadata": {},
   "outputs": [
    {
     "name": "stdout",
     "output_type": "stream",
     "text": [
      "crispy - INFO - Reading in lam_list from ..//ReferenceFiles/wavecalR50_770/lamsol.dat\n",
      "crispy - INFO - Reduced cube will have 44 wavelength bins\n",
      "crispy - INFO - The number of input pixels per lenslet is 5.016181\n",
      "crispy - INFO - Using PSFlet gaussian approximation\n",
      "crispy - WARNING - Assuming endpoints wavelist is given\n",
      "crispy - INFO - Creating Gaussian PSFLet templates\n",
      "crispy - INFO - Writing data to ..//SimResults/detectorFramepoly.fits\n",
      "crispy - INFO - Done.\n",
      "crispy - INFO - Performance: 36 seconds total\n",
      "crispy - INFO - Writing data to ..//unitTestsOutputs/flatfield.fits\n"
     ]
    }
   ],
   "source": [
    "testCreateFlatfield(par,useQE=False)"
   ]
  },
  {
   "cell_type": "code",
   "execution_count": null,
   "id": "11a4ebc2",
   "metadata": {},
   "outputs": [],
   "source": []
  }
 ],
 "metadata": {
  "kernelspec": {
   "display_name": "base",
   "language": "python",
   "name": "python3"
  },
  "language_info": {
   "codemirror_mode": {
    "name": "ipython",
    "version": 3
   },
   "file_extension": ".py",
   "mimetype": "text/x-python",
   "name": "python",
   "nbconvert_exporter": "python",
   "pygments_lexer": "ipython3",
   "version": "3.11.11"
  }
 },
 "nbformat": 4,
 "nbformat_minor": 5
}
